{
 "cells": [
  {
   "cell_type": "markdown",
   "id": "b9eae66f",
   "metadata": {},
   "source": [
    "5.Define a class which has at least two methods: getString: to get a string from console input printString: to print the string in upper case."
   ]
  },
  {
   "cell_type": "code",
   "execution_count": 1,
   "id": "389da753",
   "metadata": {},
   "outputs": [
    {
     "name": "stdout",
     "output_type": "stream",
     "text": [
      "Enter the string : mohit\n",
      "MOHIT\n"
     ]
    }
   ],
   "source": [
    "class string:\n",
    "    def __init__(self):\n",
    "        self.string = ()\n",
    "    def getString(self):\n",
    "        self.string = input(\"Enter the string : \")\n",
    "    def printString(self):\n",
    "        print(self.string.upper())\n",
    "obj = string()\n",
    "obj.getString()\n",
    "obj.printString()"
   ]
  },
  {
   "cell_type": "markdown",
   "id": "bd13776a",
   "metadata": {},
   "source": [
    "6.Write a program that calculates and prints the value according to the given formula: Q = Square root of [(2 * C * D)/H] Following are the fixed values of C and H: C is 50. H is 30. D is the variable whose values should be input to your program in a comma-separated sequence. Let us assume the following comma separated input sequence is given to the program: 100,150,180 The output of the program should be: 18, 22, 24 Hints: If the output received is in decimal form, it should be rounded off to its nearest value (for example, if the output received is 26.0, it should be printed as 26) In case of input data being supplied to the question, it should be assumed to be a console input."
   ]
  },
  {
   "cell_type": "code",
   "execution_count": 2,
   "id": "72b00f2a",
   "metadata": {},
   "outputs": [
    {
     "name": "stdout",
     "output_type": "stream",
     "text": [
      "111111\n"
     ]
    }
   ],
   "source": [
    "C = 50\n",
    "H = 30\n",
    "def formula(D):\n",
    "    Q=((2*C*D)/H)**2\n",
    "    return(Q)\n",
    "print(int(formula(100)))"
   ]
  },
  {
   "cell_type": "code",
   "execution_count": 3,
   "id": "41e0ede7",
   "metadata": {},
   "outputs": [
    {
     "data": {
      "text/plain": [
       "[111111.1111111111, 250000.0, 360000.0]"
      ]
     },
     "execution_count": 3,
     "metadata": {},
     "output_type": "execute_result"
    }
   ],
   "source": [
    "list(map(formula,[100,150,180]))"
   ]
  }
 ],
 "metadata": {
  "kernelspec": {
   "display_name": "Python 3 (ipykernel)",
   "language": "python",
   "name": "python3"
  },
  "language_info": {
   "codemirror_mode": {
    "name": "ipython",
    "version": 3
   },
   "file_extension": ".py",
   "mimetype": "text/x-python",
   "name": "python",
   "nbconvert_exporter": "python",
   "pygments_lexer": "ipython3",
   "version": "3.8.12"
  }
 },
 "nbformat": 4,
 "nbformat_minor": 5
}
