{
 "cells": [
  {
   "cell_type": "markdown",
   "id": "b9eae66f",
   "metadata": {},
   "source": [
    "8.Write a program that accepts a comma separated sequence of words as input and prints the words in a comma-separated sequence after sorting them alphabetically. without, hello, bag, world."
   ]
  },
  {
   "cell_type": "code",
   "execution_count": 1,
   "id": "389da753",
   "metadata": {},
   "outputs": [
    {
     "name": "stdout",
     "output_type": "stream",
     "text": [
      "Enter the words : without, hello, bag, world\n",
      " bag, hello, world,without\n"
     ]
    }
   ],
   "source": [
    "a = input(\"Enter the words : \")\n",
    "b = a.split(\",\")\n",
    "b.sort()\n",
    "print((',').join(b))"
   ]
  },
  {
   "cell_type": "markdown",
   "id": "bd13776a",
   "metadata": {},
   "source": [
    "9.Write a program that accepts sequence of lines as input and prints the lines after making all characters in the sentence capitalized.\n",
    "Suppose the input is supplied to the program: Hello world Practice makes perfect Then, the output should be: HELLO WORLD PRACTICE MAKES PERFECT."
   ]
  },
  {
   "cell_type": "code",
   "execution_count": 3,
   "id": "72b00f2a",
   "metadata": {},
   "outputs": [
    {
     "name": "stdout",
     "output_type": "stream",
     "text": [
      "Enter the line : Hello world Practice makes perfect\n",
      "HELLO WORLD PRACTICE MAKES PERFECT\n"
     ]
    }
   ],
   "source": [
    "line= input(\"Enter the line : \")\n",
    "line1 = line.upper()\n",
    "print(line1)"
   ]
  }
 ],
 "metadata": {
  "kernelspec": {
   "display_name": "Python 3 (ipykernel)",
   "language": "python",
   "name": "python3"
  },
  "language_info": {
   "codemirror_mode": {
    "name": "ipython",
    "version": 3
   },
   "file_extension": ".py",
   "mimetype": "text/x-python",
   "name": "python",
   "nbconvert_exporter": "python",
   "pygments_lexer": "ipython3",
   "version": "3.8.12"
  }
 },
 "nbformat": 4,
 "nbformat_minor": 5
}
